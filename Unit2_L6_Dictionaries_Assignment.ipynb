{
  "nbformat": 4,
  "nbformat_minor": 0,
  "metadata": {
    "colab": {
      "name": "Unit2_L6 -- Dictionaries Assignment.ipynb",
      "provenance": [],
      "authorship_tag": "ABX9TyNrEB76Vfw5LeTMHADepQeu",
      "include_colab_link": true
    },
    "kernelspec": {
      "name": "python3",
      "display_name": "Python 3"
    }
  },
  "cells": [
    {
      "cell_type": "markdown",
      "metadata": {
        "id": "view-in-github",
        "colab_type": "text"
      },
      "source": [
        "<a href=\"https://colab.research.google.com/github/yongqi-li-723/Micro-Credential-Data_Analytics/blob/main/Unit2_L6_Dictionaries_Assignment.ipynb\" target=\"_parent\"><img src=\"https://colab.research.google.com/assets/colab-badge.svg\" alt=\"Open In Colab\"/></a>"
      ]
    },
    {
      "cell_type": "markdown",
      "metadata": {
        "id": "WRQiQWArjBaM"
      },
      "source": [
        "# Dictionaries"
      ]
    },
    {
      "cell_type": "markdown",
      "metadata": {
        "id": "RVOe-Cg-jFII"
      },
      "source": [
        "**1. Create a simple dictionary that stores 2 variables, for example: first and last name.**"
      ]
    },
    {
      "cell_type": "code",
      "metadata": {
        "colab": {
          "base_uri": "https://localhost:8080/"
        },
        "id": "M7oCX5irkFOG",
        "outputId": "72958092-f2b5-4039-bf7a-d857d4db8a03"
      },
      "source": [
        "Name_Dict = {}\r\n",
        "Name_Dict['first_name'] = input('Enter your first name: ')\r\n",
        "Name_Dict['last_name'] = input('Enter your last name: ')"
      ],
      "execution_count": null,
      "outputs": [
        {
          "output_type": "stream",
          "text": [
            "Enter your first name: yongqi\n",
            "Enter your last name: li\n"
          ],
          "name": "stdout"
        }
      ]
    },
    {
      "cell_type": "markdown",
      "metadata": {
        "id": "UB4-FO2ijKFP"
      },
      "source": [
        "**2. Print out those variables stored in your previous dictionary.**"
      ]
    },
    {
      "cell_type": "code",
      "metadata": {
        "colab": {
          "base_uri": "https://localhost:8080/"
        },
        "id": "D3uD6Jmyi0_D",
        "outputId": "4042c383-2d26-46e2-fce9-0c9bf2dc249a"
      },
      "source": [
        "print(Name_Dict['first_name'].title() + ' ' + Name_Dict['last_name'].title())"
      ],
      "execution_count": null,
      "outputs": [
        {
          "output_type": "stream",
          "text": [
            "Yongqi Li\n"
          ],
          "name": "stdout"
        }
      ]
    },
    {
      "cell_type": "markdown",
      "metadata": {
        "id": "DbGPBdnTjPCE"
      },
      "source": [
        "**3. Add a message to those variables on printing: for example: “Hello, firstname lastname!”**"
      ]
    },
    {
      "cell_type": "code",
      "metadata": {
        "colab": {
          "base_uri": "https://localhost:8080/"
        },
        "id": "CH25LBAxi074",
        "outputId": "95d848a4-bb0b-460c-8759-459413e83602"
      },
      "source": [
        "print('Hello, ' + Name_Dict['first_name'].title() + ' ' + Name_Dict['last_name'].title() + '!')"
      ],
      "execution_count": null,
      "outputs": [
        {
          "output_type": "stream",
          "text": [
            "Hello, Yongqi Li!\n"
          ],
          "name": "stdout"
        }
      ]
    },
    {
      "cell_type": "markdown",
      "metadata": {
        "id": "nZaKNHmBjSts"
      },
      "source": [
        "**4. Create a dictionary that holds 2 key: value pairs:**\r\n",
        "\r\n",
        "**Look through your dictionary and print each pair**"
      ]
    },
    {
      "cell_type": "code",
      "metadata": {
        "colab": {
          "base_uri": "https://localhost:8080/"
        },
        "id": "afq7Ssmni043",
        "outputId": "3a36fa39-a7ff-43f3-d678-4e628a7a549e"
      },
      "source": [
        "Name_Dict = {}\r\n",
        "Name_Dict['first_name'] = input('Enter your first name: ')\r\n",
        "Name_Dict['last_name'] = input('Enter your last name: ')\r\n",
        "\r\n",
        "for k,v in Name_Dict.items():\r\n",
        "  print(k + '\\t' + v)\r\n"
      ],
      "execution_count": null,
      "outputs": [
        {
          "output_type": "stream",
          "text": [
            "Enter your first name: John\n",
            "Enter your last name: Smith\n",
            "first_name\tJohn\n",
            "last_name\tSmith\n"
          ],
          "name": "stdout"
        }
      ]
    },
    {
      "cell_type": "markdown",
      "metadata": {
        "id": "uL3VR8pljaMK"
      },
      "source": [
        "**5. Create a nested dictionary containing three dictionaries – these dictionaries could be\r\n",
        "anything (favorite pets, travel locations, etc.)**\r\n",
        "\r\n",
        "**Loop through the dictionaries and print a message for each.**"
      ]
    },
    {
      "cell_type": "code",
      "metadata": {
        "colab": {
          "base_uri": "https://localhost:8080/"
        },
        "id": "-zTe2Fj6i02L",
        "outputId": "52643f94-3cab-433e-af98-ce424d777220"
      },
      "source": [
        "Nested_Dict = {\r\n",
        "    \"class\":{\r\n",
        "        \"student\":{\r\n",
        "            \"firsts_name\":\"Mike\",\r\n",
        "            \"last_name\":\"Khan\"\r\n",
        "                  }\r\n",
        "             }\r\n",
        "             }\r\n",
        "\r\n",
        "print(Nested_Dict)\r\n",
        "print(Nested_Dict['class'])\r\n",
        "print(Nested_Dict['class']['student'])"
      ],
      "execution_count": null,
      "outputs": [
        {
          "output_type": "stream",
          "text": [
            "{'class': {'student': {'firsts_name': 'Mike', 'last_name': 'Khan'}}}\n",
            "{'student': {'firsts_name': 'Mike', 'last_name': 'Khan'}}\n",
            "{'firsts_name': 'Mike', 'last_name': 'Khan'}\n"
          ],
          "name": "stdout"
        }
      ]
    },
    {
      "cell_type": "code",
      "metadata": {
        "id": "5ThQP37-i0zT"
      },
      "source": [
        ""
      ],
      "execution_count": null,
      "outputs": []
    },
    {
      "cell_type": "code",
      "metadata": {
        "id": "EgPgG7cEi0wn"
      },
      "source": [
        ""
      ],
      "execution_count": null,
      "outputs": []
    }
  ]
}