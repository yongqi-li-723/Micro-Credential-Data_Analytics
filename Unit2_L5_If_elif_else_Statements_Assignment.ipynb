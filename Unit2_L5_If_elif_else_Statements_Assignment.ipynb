{
  "nbformat": 4,
  "nbformat_minor": 0,
  "metadata": {
    "colab": {
      "name": "Unit2_L5 -- If-elif-else Statements Assignment.ipynb",
      "provenance": [],
      "authorship_tag": "ABX9TyN5XRGg0YKQQ5Btive2c7QX",
      "include_colab_link": true
    },
    "kernelspec": {
      "name": "python3",
      "display_name": "Python 3"
    }
  },
  "cells": [
    {
      "cell_type": "markdown",
      "metadata": {
        "id": "view-in-github",
        "colab_type": "text"
      },
      "source": [
        "<a href=\"https://colab.research.google.com/github/yongqi-li-723/Micro-Credential-Data_Analytics/blob/main/Unit2_L5_If_elif_else_Statements_Assignment.ipynb\" target=\"_parent\"><img src=\"https://colab.research.google.com/assets/colab-badge.svg\" alt=\"Open In Colab\"/></a>"
      ]
    },
    {
      "cell_type": "markdown",
      "metadata": {
        "id": "meE7pckueneW"
      },
      "source": [
        "# If-elif-else Statements"
      ]
    },
    {
      "cell_type": "markdown",
      "metadata": {
        "id": "LI_hLPY-erAE"
      },
      "source": [
        "**1. Make a list of 5 or more usernames, including an admin account.  Imagine you are writing code that will welcome people to your application on login. Loop through the list and print your greeting.**\r\n",
        "\r\n",
        "a) If the admin account logs in, give them a special greeting.  They’re the admin, after all!\r\n",
        "\r\n",
        "b) Other users can get the generic greeting\r\n"
      ]
    },
    {
      "cell_type": "code",
      "metadata": {
        "colab": {
          "base_uri": "https://localhost:8080/"
        },
        "id": "Cq-qWz0UiwhC",
        "outputId": "2051a5a0-3bcc-4c3f-8021-e91410da3a2c"
      },
      "source": [
        "users = {'TomSmith':'general',\r\n",
        "        'JennyKhan':'general',\r\n",
        "        'PettyLaw':'general',\r\n",
        "        'JohnScott':'general',\r\n",
        "        'CUNY':'admin'}\r\n",
        "\r\n",
        "\r\n",
        "for key,value in users.items():\r\n",
        "    if value == 'admin':\r\n",
        "        print(\"Hello admin, how's everything going?\")\r\n",
        "    else:\r\n",
        "      print(\"Welcome!\")"
      ],
      "execution_count": null,
      "outputs": [
        {
          "output_type": "stream",
          "text": [
            "Welcome!\n",
            "Welcome!\n",
            "Welcome!\n",
            "Welcome!\n",
            "Hello admin, how's everything going?\n"
          ],
          "name": "stdout"
        }
      ]
    },
    {
      "cell_type": "code",
      "metadata": {
        "id": "g1JSE5qPem6h"
      },
      "source": [
        ""
      ],
      "execution_count": null,
      "outputs": []
    },
    {
      "cell_type": "markdown",
      "metadata": {
        "id": "zOKabXmme4ip"
      },
      "source": [
        "**2. Store numbers 1-10 in a list**\r\n",
        "\r\n",
        "a) Loop through the list\r\n",
        "\r\n",
        "b) Use an if-elif-else chain inside your loop to print the ordinal ending for each number – for example – 1st, 2nd, 3rd … etc.\r\n"
      ]
    },
    {
      "cell_type": "code",
      "metadata": {
        "colab": {
          "base_uri": "https://localhost:8080/"
        },
        "id": "a3l8AIXRenAu",
        "outputId": "359f6695-e68d-4861-aaba-68a75383d9b6"
      },
      "source": [
        "numbers = list(range(1,10))\r\n",
        "\r\n",
        "for number in numbers:\r\n",
        "    if number == 1:\r\n",
        "        print(\"1st\")\r\n",
        "    elif number == 2:\r\n",
        "        print(\"2nd\")\r\n",
        "    elif number == 3:\r\n",
        "        print(\"3rd\")\r\n",
        "    else:\r\n",
        "        print(str(number) + \"th\")"
      ],
      "execution_count": null,
      "outputs": [
        {
          "output_type": "stream",
          "text": [
            "1st\n",
            "2nd\n",
            "3rd\n",
            "4th\n",
            "5th\n",
            "6th\n",
            "7th\n",
            "8th\n",
            "9th\n"
          ],
          "name": "stdout"
        }
      ]
    },
    {
      "cell_type": "code",
      "metadata": {
        "id": "mJsLbZVsenDT"
      },
      "source": [
        ""
      ],
      "execution_count": null,
      "outputs": []
    }
  ]
}