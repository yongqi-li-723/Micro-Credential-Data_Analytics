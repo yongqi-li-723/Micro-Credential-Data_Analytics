{
  "nbformat": 4,
  "nbformat_minor": 0,
  "metadata": {
    "colab": {
      "name": "Unit2_L2&3 Lists Assignments.ipynb",
      "provenance": [],
      "authorship_tag": "ABX9TyMds4yNXhhM0hlbRL5UDiar",
      "include_colab_link": true
    },
    "kernelspec": {
      "name": "python3",
      "display_name": "Python 3"
    }
  },
  "cells": [
    {
      "cell_type": "markdown",
      "metadata": {
        "id": "view-in-github",
        "colab_type": "text"
      },
      "source": [
        "<a href=\"https://colab.research.google.com/github/yongqi-li-723/Micro-Credential-Data_Analytics/blob/main/Unit2_L2%263_Lists_Assignments.ipynb\" target=\"_parent\"><img src=\"https://colab.research.google.com/assets/colab-badge.svg\" alt=\"Open In Colab\"/></a>"
      ]
    },
    {
      "cell_type": "markdown",
      "metadata": {
        "id": "JqkPIDCUr_2z"
      },
      "source": [
        "# Python for Data Analytics"
      ]
    },
    {
      "cell_type": "markdown",
      "metadata": {
        "id": "Q0DaE8t0rjvr"
      },
      "source": [
        "# 3. Create a variable that holds the string “hello there!”"
      ]
    },
    {
      "cell_type": "code",
      "metadata": {
        "colab": {
          "base_uri": "https://localhost:8080/"
        },
        "id": "lFKzB_qtjkiX",
        "outputId": "8ac06e1f-f378-4b99-a604-df2521f7800e"
      },
      "source": [
        "hello = 'hello there!'\r\n",
        "print(hello)"
      ],
      "execution_count": null,
      "outputs": [
        {
          "output_type": "stream",
          "text": [
            "hello there!\n"
          ],
          "name": "stdout"
        }
      ]
    },
    {
      "cell_type": "markdown",
      "metadata": {
        "id": "EGkxp7jJrspU"
      },
      "source": [
        "# 4. Create a variable for first name, last name and an email extension.  Concatenating all three together to form an email address.  For example: firstnamelastname@gmail.com"
      ]
    },
    {
      "cell_type": "code",
      "metadata": {
        "colab": {
          "base_uri": "https://localhost:8080/"
        },
        "id": "rq4IWGPnjkli",
        "outputId": "f7684f8e-fc82-4e35-b9a8-68ec9062f413"
      },
      "source": [
        "first_name = input('Enter your first name: ')\r\n",
        "last_name = input('Enter your last name: ')\r\n",
        "email_extension = input('Enter your email extension: ')\r\n",
        "print(first_name + last_name + email_extension)"
      ],
      "execution_count": null,
      "outputs": [
        {
          "output_type": "stream",
          "text": [
            "Enter your first name: Yongqi\n",
            "Enter your last name: Li\n",
            "Enter your email extension: @gmail.com\n",
            "YongqiLi@gmail.com\n"
          ],
          "name": "stdout"
        }
      ]
    },
    {
      "cell_type": "markdown",
      "metadata": {
        "id": "QQlEAqmar0zB"
      },
      "source": [
        "# 5. Store someone you know name in a variable called name.  Print their name in lower and uppercase using a method."
      ]
    },
    {
      "cell_type": "code",
      "metadata": {
        "colab": {
          "base_uri": "https://localhost:8080/"
        },
        "id": "2mP4kLeEjkoS",
        "outputId": "a5374b29-eda1-48e3-c7dd-451f3486b776"
      },
      "source": [
        "name = 'Tom Smith'\r\n",
        "print(name.upper())\r\n",
        "print(name.lower())"
      ],
      "execution_count": null,
      "outputs": [
        {
          "output_type": "stream",
          "text": [
            "TOM SMITH\n",
            "tom smith\n"
          ],
          "name": "stdout"
        }
      ]
    },
    {
      "cell_type": "markdown",
      "metadata": {
        "id": "ylJzvGVDr5WC"
      },
      "source": [
        "# 6. Using a variable, ask your friend if they want to hang out on the 15th of the month.  For example, “Do you want to hang out on the 15th of this month?”  You should have to convert the number to a string."
      ]
    },
    {
      "cell_type": "code",
      "metadata": {
        "colab": {
          "base_uri": "https://localhost:8080/"
        },
        "id": "E-KNrAgPjkq-",
        "outputId": "d0469b57-ec15-44fd-8768-27eeb0b7ca8d"
      },
      "source": [
        "date = input('Enter the date: ')\r\n",
        "print('Do you want to hang out on the ' +  date + 'th of this month?')"
      ],
      "execution_count": null,
      "outputs": [
        {
          "output_type": "stream",
          "text": [
            "Enter the date: 15\n",
            "Do you want to hang out on the 15th of this month?\n"
          ],
          "name": "stdout"
        }
      ]
    },
    {
      "cell_type": "markdown",
      "metadata": {
        "id": "7kAJdm6bsCwt"
      },
      "source": [
        "# Lesson 3: Working with Lists"
      ]
    },
    {
      "cell_type": "markdown",
      "metadata": {
        "id": "Sfhdz6VlnOZY"
      },
      "source": [
        "# 1. Create a list of 5 of your favorite tv shows."
      ]
    },
    {
      "cell_type": "code",
      "metadata": {
        "id": "uZi0J-7fmV9V"
      },
      "source": [
        "tv_shows = [\"Harry Potter\",\"Another\",\"Day Day Up\",\"Heaven Official's Blessing\",\"Under One Person\"]"
      ],
      "execution_count": null,
      "outputs": []
    },
    {
      "cell_type": "markdown",
      "metadata": {
        "id": "NxkX3vkOoMlC"
      },
      "source": [
        "# 2. Print the list in its original order."
      ]
    },
    {
      "cell_type": "code",
      "metadata": {
        "colab": {
          "base_uri": "https://localhost:8080/"
        },
        "id": "BelLFEcOmWA5",
        "outputId": "cc7fcb55-3a5c-4685-96e2-2a59454e2703"
      },
      "source": [
        "print(tv_shows)"
      ],
      "execution_count": null,
      "outputs": [
        {
          "output_type": "stream",
          "text": [
            "['Harry Potter', 'Another', 'Day Day Up', \"Heaven Official's Blessing\", 'Under One Person']\n"
          ],
          "name": "stdout"
        }
      ]
    },
    {
      "cell_type": "markdown",
      "metadata": {
        "id": "gxTpyyMGoP2r"
      },
      "source": [
        "# 3. Use the sorted() function to print the list in alphabetical order. How is sorted() different from sort()?"
      ]
    },
    {
      "cell_type": "code",
      "metadata": {
        "colab": {
          "base_uri": "https://localhost:8080/"
        },
        "id": "hOBSBxCYmWDs",
        "outputId": "bcafb8b9-d122-473a-da4b-eedacb2d9b0b"
      },
      "source": [
        "tv_shows = [\"Harry Potter\",\"Another\",\"Day Day Up\",\"Heaven Official's Blessing\",\"Under One Person\"]\r\n",
        "print(sorted(tv_shows))"
      ],
      "execution_count": null,
      "outputs": [
        {
          "output_type": "stream",
          "text": [
            "['Another', 'Day Day Up', 'Harry Potter', \"Heaven Official's Blessing\", 'Under One Person']\n"
          ],
          "name": "stdout"
        }
      ]
    },
    {
      "cell_type": "code",
      "metadata": {
        "colab": {
          "base_uri": "https://localhost:8080/"
        },
        "id": "paKBSWeUqSpn",
        "outputId": "d1cfd921-5e34-4955-997b-30c022316799"
      },
      "source": [
        "tv_shows = [\"Harry Potter\",\"Another\",\"Day Day Up\",\"Heaven Official's Blessing\",\"Under One Person\"]\r\n",
        "tv_shows_sort = tv_shows.sort()\r\n",
        "print(tv_shows)"
      ],
      "execution_count": null,
      "outputs": [
        {
          "output_type": "stream",
          "text": [
            "['Another', 'Day Day Up', 'Harry Potter', \"Heaven Official's Blessing\", 'Under One Person']\n"
          ],
          "name": "stdout"
        }
      ]
    },
    {
      "cell_type": "markdown",
      "metadata": {
        "id": "lAY1vPaGoU2l"
      },
      "source": [
        "# 4. Print out your original list."
      ]
    },
    {
      "cell_type": "code",
      "metadata": {
        "colab": {
          "base_uri": "https://localhost:8080/"
        },
        "id": "YqM6bAd3mWGS",
        "outputId": "13a4aa08-388c-47db-86fc-49212888a1dc"
      },
      "source": [
        "tv_shows = [\"Harry Potter\",\"Another\",\"Day Day Up\",\"Heaven Official's Blessing\",\"Under One Person\"]\r\n",
        "print(tv_shows)"
      ],
      "execution_count": null,
      "outputs": [
        {
          "output_type": "stream",
          "text": [
            "['Harry Potter', 'Another', 'Day Day Up', \"Heaven Official's Blessing\", 'Under One Person']\n"
          ],
          "name": "stdout"
        }
      ]
    },
    {
      "cell_type": "markdown",
      "metadata": {
        "id": "KDb5vsqfoYNN"
      },
      "source": [
        "# 5. Used sorted() to print your list in reverse alphabetical order."
      ]
    },
    {
      "cell_type": "code",
      "metadata": {
        "colab": {
          "base_uri": "https://localhost:8080/"
        },
        "id": "RspnkrYnmWOF",
        "outputId": "769c0f08-c85a-4901-92a4-b2d35f68c461"
      },
      "source": [
        "print(sorted(tv_shows, reverse = True))"
      ],
      "execution_count": null,
      "outputs": [
        {
          "output_type": "stream",
          "text": [
            "['Under One Person', \"Heaven Official's Blessing\", 'Harry Potter', 'Day Day Up', 'Another']\n"
          ],
          "name": "stdout"
        }
      ]
    },
    {
      "cell_type": "markdown",
      "metadata": {
        "id": "HYMnvVYooanv"
      },
      "source": [
        "# 6. Create a message indicating how many favorite TV shows you have – use the len() function."
      ]
    },
    {
      "cell_type": "code",
      "metadata": {
        "colab": {
          "base_uri": "https://localhost:8080/"
        },
        "id": "uPdP7TXsmWQe",
        "outputId": "6d7ae04c-0b4b-4c7a-b731-342500360a4a"
      },
      "source": [
        "print(len(tv_shows))"
      ],
      "execution_count": null,
      "outputs": [
        {
          "output_type": "stream",
          "text": [
            "5\n"
          ],
          "name": "stdout"
        }
      ]
    },
    {
      "cell_type": "code",
      "metadata": {
        "id": "UbISUSaMjkt4"
      },
      "source": [
        ""
      ],
      "execution_count": null,
      "outputs": []
    }
  ]
}